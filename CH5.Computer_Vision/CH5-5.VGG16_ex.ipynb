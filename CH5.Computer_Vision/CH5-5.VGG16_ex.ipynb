{
 "cells": [
  {
   "cell_type": "markdown",
   "metadata": {},
   "source": [
    "# Feature Extraction"
   ]
  },
  {
   "cell_type": "code",
   "execution_count": 1,
   "metadata": {},
   "outputs": [
    {
     "name": "stderr",
     "output_type": "stream",
     "text": [
      "Using TensorFlow backend.\n"
     ]
    }
   ],
   "source": [
    "from keras.applications import VGG16\n",
    "#VGG16 : Convolution layers 13 / fully connected layers 3\n",
    "#VGG19 : Convolution layers 16 / fully connected layers 3"
   ]
  },
  {
   "cell_type": "code",
   "execution_count": 2,
   "metadata": {},
   "outputs": [],
   "source": [
    "conv_base = VGG16(weights = 'imagenet' , #초기화할 가중치 체크포인트 지정\n",
    "                 include_top = False, #최상위 완전 연결 분규리를 포함할지 안 할지(default 클래스 1000에 대응되는 분류기 포함)\n",
    "                 input_shape = (150,150,3)) #네트워크에 주입할 이밎 텐서의 크기. 만약 include_top = True이면, 완전 연결 층이 추가되기 때문에 원본 모델과 동일해야 함"
   ]
  },
  {
   "cell_type": "code",
   "execution_count": 3,
   "metadata": {},
   "outputs": [
    {
     "name": "stdout",
     "output_type": "stream",
     "text": [
      "_________________________________________________________________\n",
      "Layer (type)                 Output Shape              Param #   \n",
      "=================================================================\n",
      "input_1 (InputLayer)         (None, 150, 150, 3)       0         \n",
      "_________________________________________________________________\n",
      "block1_conv1 (Conv2D)        (None, 150, 150, 64)      1792      \n",
      "_________________________________________________________________\n",
      "block1_conv2 (Conv2D)        (None, 150, 150, 64)      36928     \n",
      "_________________________________________________________________\n",
      "block1_pool (MaxPooling2D)   (None, 75, 75, 64)        0         \n",
      "_________________________________________________________________\n",
      "block2_conv1 (Conv2D)        (None, 75, 75, 128)       73856     \n",
      "_________________________________________________________________\n",
      "block2_conv2 (Conv2D)        (None, 75, 75, 128)       147584    \n",
      "_________________________________________________________________\n",
      "block2_pool (MaxPooling2D)   (None, 37, 37, 128)       0         \n",
      "_________________________________________________________________\n",
      "block3_conv1 (Conv2D)        (None, 37, 37, 256)       295168    \n",
      "_________________________________________________________________\n",
      "block3_conv2 (Conv2D)        (None, 37, 37, 256)       590080    \n",
      "_________________________________________________________________\n",
      "block3_conv3 (Conv2D)        (None, 37, 37, 256)       590080    \n",
      "_________________________________________________________________\n",
      "block3_pool (MaxPooling2D)   (None, 18, 18, 256)       0         \n",
      "_________________________________________________________________\n",
      "block4_conv1 (Conv2D)        (None, 18, 18, 512)       1180160   \n",
      "_________________________________________________________________\n",
      "block4_conv2 (Conv2D)        (None, 18, 18, 512)       2359808   \n",
      "_________________________________________________________________\n",
      "block4_conv3 (Conv2D)        (None, 18, 18, 512)       2359808   \n",
      "_________________________________________________________________\n",
      "block4_pool (MaxPooling2D)   (None, 9, 9, 512)         0         \n",
      "_________________________________________________________________\n",
      "block5_conv1 (Conv2D)        (None, 9, 9, 512)         2359808   \n",
      "_________________________________________________________________\n",
      "block5_conv2 (Conv2D)        (None, 9, 9, 512)         2359808   \n",
      "_________________________________________________________________\n",
      "block5_conv3 (Conv2D)        (None, 9, 9, 512)         2359808   \n",
      "_________________________________________________________________\n",
      "block5_pool (MaxPooling2D)   (None, 4, 4, 512)         0         \n",
      "=================================================================\n",
      "Total params: 14,714,688\n",
      "Trainable params: 14,714,688\n",
      "Non-trainable params: 0\n",
      "_________________________________________________________________\n"
     ]
    }
   ],
   "source": [
    "conv_base.summary()"
   ]
  },
  {
   "cell_type": "markdown",
   "metadata": {},
   "source": [
    "## not using Data Augmentation\n",
    "- 새로운 데이터셋에서 CNN layer를 실행하고, 출력을 numpy array로 디스크에 저장.\n",
    "- 독립된 완전 연결 분류기에 입력으로 사용.\n",
    "- 모든 이미지에 CNN층을 한 번만 실행하면 되기 때문에 빠르고 비용이 적게 듬"
   ]
  },
  {
   "cell_type": "code",
   "execution_count": 4,
   "metadata": {},
   "outputs": [],
   "source": [
    "import os\n",
    "import numpy as np\n",
    "from keras.preprocessing.image import ImageDataGenerator"
   ]
  },
  {
   "cell_type": "code",
   "execution_count": 6,
   "metadata": {},
   "outputs": [
    {
     "data": {
      "text/plain": [
       "['cats_vs_dogs', 'cats_vs_dogs_small']"
      ]
     },
     "execution_count": 6,
     "metadata": {},
     "output_type": "execute_result"
    }
   ],
   "source": [
    "os.listdir('./data')"
   ]
  },
  {
   "cell_type": "code",
   "execution_count": 7,
   "metadata": {},
   "outputs": [],
   "source": [
    "base_dir = './data/cats_vs_dogs_small'\n",
    "\n",
    "train_dir = os.path.join(base_dir, 'train')\n",
    "validation_dir = os.path.join(base_dir, 'validation')\n",
    "test_dir = os.path.join(base_dir, 'test')"
   ]
  },
  {
   "cell_type": "code",
   "execution_count": 9,
   "metadata": {},
   "outputs": [],
   "source": [
    "datagen = ImageDataGenerator(rescale=1./255)\n",
    "batch_size = 20"
   ]
  },
  {
   "cell_type": "code",
   "execution_count": 11,
   "metadata": {},
   "outputs": [],
   "source": [
    "def extract_features(directory, sample_count) :\n",
    "    features = np.zeros(shape = (sample_count,4,4,512))\n",
    "    labels = np.zeros(shape = (sample_count))\n",
    "    \n",
    "    generator = datagen.flow_from_directory(\n",
    "        directory, target_size = (150,150),\n",
    "        batch_size = batch_size, class_mode='binary'\n",
    "    )\n",
    "    \n",
    "    i = 0\n",
    "    for input_batch, label_batch in generator :\n",
    "        features_batch = conv_base.predict(input_batch)\n",
    "        features[i * batch_size : (i+1) * batch_size] = features_batch\n",
    "        labels[i * batch_size : (i+1) * batch_size] = label_batch\n",
    "        i += 1\n",
    "        \n",
    "        if i *batch_size >= sample_count :\n",
    "            break #제너레이터는 루프 안에서 무한히 데이터를 만들어 내므로, 모든 이미지를 한 번씩 처리하고 나면 중지하도록\n",
    "    \n",
    "    return features, labels"
   ]
  },
  {
   "cell_type": "code",
   "execution_count": 13,
   "metadata": {},
   "outputs": [
    {
     "name": "stdout",
     "output_type": "stream",
     "text": [
      "Found 2000 images belonging to 2 classes.\n",
      "Found 1000 images belonging to 2 classes.\n",
      "Found 1000 images belonging to 2 classes.\n"
     ]
    }
   ],
   "source": [
    "train_features, train_labels = extract_features(train_dir, 2000)\n",
    "validation_features, validation_labels = extract_features(validation_dir, 1000)\n",
    "test_features, test_labels = extract_features(test_dir, 1000)"
   ]
  },
  {
   "cell_type": "code",
   "execution_count": 16,
   "metadata": {},
   "outputs": [],
   "source": [
    "#완전 연결 분류기에 주입하기 위해 shape을 맞춰준다\n",
    "train_features = np.reshape(train_features, (2000, 4*4*512))\n",
    "validation_features = np.reshape(validation_features, (1000, 4*4*512))\n",
    "test_features = np.reshape(test_features, (1000, 4*4*512))"
   ]
  },
  {
   "cell_type": "code",
   "execution_count": 17,
   "metadata": {},
   "outputs": [],
   "source": [
    "from keras import models\n",
    "from keras import layers\n",
    "from keras import optimizers"
   ]
  },
  {
   "cell_type": "code",
   "execution_count": 18,
   "metadata": {},
   "outputs": [
    {
     "name": "stdout",
     "output_type": "stream",
     "text": [
      "Train on 2000 samples, validate on 1000 samples\n",
      "Epoch 1/30\n",
      "2000/2000 [==============================] - 1s 309us/step - loss: 0.5974 - acc: 0.6665 - val_loss: 0.4433 - val_acc: 0.8370\n",
      "Epoch 2/30\n",
      "2000/2000 [==============================] - 0s 134us/step - loss: 0.4220 - acc: 0.8150 - val_loss: 0.3621 - val_acc: 0.8570\n",
      "Epoch 3/30\n",
      "2000/2000 [==============================] - 0s 137us/step - loss: 0.3576 - acc: 0.8490 - val_loss: 0.3214 - val_acc: 0.8770\n",
      "Epoch 4/30\n",
      "2000/2000 [==============================] - 0s 135us/step - loss: 0.3182 - acc: 0.8630 - val_loss: 0.3023 - val_acc: 0.8820\n",
      "Epoch 5/30\n",
      "2000/2000 [==============================] - 0s 134us/step - loss: 0.2855 - acc: 0.8795 - val_loss: 0.2859 - val_acc: 0.8850\n",
      "Epoch 6/30\n",
      "2000/2000 [==============================] - 0s 135us/step - loss: 0.2594 - acc: 0.8955 - val_loss: 0.2733 - val_acc: 0.8950\n",
      "Epoch 7/30\n",
      "2000/2000 [==============================] - 0s 134us/step - loss: 0.2543 - acc: 0.8940 - val_loss: 0.2688 - val_acc: 0.8940\n",
      "Epoch 8/30\n",
      "2000/2000 [==============================] - 0s 133us/step - loss: 0.2281 - acc: 0.9110 - val_loss: 0.2584 - val_acc: 0.9030\n",
      "Epoch 9/30\n",
      "2000/2000 [==============================] - 0s 134us/step - loss: 0.2169 - acc: 0.9185 - val_loss: 0.2546 - val_acc: 0.9050\n",
      "Epoch 10/30\n",
      "2000/2000 [==============================] - 0s 136us/step - loss: 0.2064 - acc: 0.9205 - val_loss: 0.2530 - val_acc: 0.8980\n",
      "Epoch 11/30\n",
      "2000/2000 [==============================] - 0s 133us/step - loss: 0.1943 - acc: 0.9245 - val_loss: 0.2462 - val_acc: 0.9110\n",
      "Epoch 12/30\n",
      "2000/2000 [==============================] - 0s 134us/step - loss: 0.1869 - acc: 0.9360 - val_loss: 0.2457 - val_acc: 0.9050\n",
      "Epoch 13/30\n",
      "2000/2000 [==============================] - 0s 135us/step - loss: 0.1800 - acc: 0.9350 - val_loss: 0.2478 - val_acc: 0.8980\n",
      "Epoch 14/30\n",
      "2000/2000 [==============================] - 0s 134us/step - loss: 0.1756 - acc: 0.9435 - val_loss: 0.2408 - val_acc: 0.9140\n",
      "Epoch 15/30\n",
      "2000/2000 [==============================] - 0s 133us/step - loss: 0.1649 - acc: 0.9405 - val_loss: 0.2468 - val_acc: 0.9020\n",
      "Epoch 16/30\n",
      "2000/2000 [==============================] - 0s 133us/step - loss: 0.1572 - acc: 0.9440 - val_loss: 0.2393 - val_acc: 0.9080\n",
      "Epoch 17/30\n",
      "2000/2000 [==============================] - 0s 133us/step - loss: 0.1520 - acc: 0.9475 - val_loss: 0.2395 - val_acc: 0.9070\n",
      "Epoch 18/30\n",
      "2000/2000 [==============================] - 0s 134us/step - loss: 0.1432 - acc: 0.9505 - val_loss: 0.2458 - val_acc: 0.9050\n",
      "Epoch 19/30\n",
      "2000/2000 [==============================] - 0s 133us/step - loss: 0.1391 - acc: 0.9495 - val_loss: 0.2360 - val_acc: 0.9060\n",
      "Epoch 20/30\n",
      "2000/2000 [==============================] - 0s 135us/step - loss: 0.1318 - acc: 0.9595 - val_loss: 0.2363 - val_acc: 0.9080\n",
      "Epoch 21/30\n",
      "2000/2000 [==============================] - 0s 133us/step - loss: 0.1237 - acc: 0.9575 - val_loss: 0.2483 - val_acc: 0.9020\n",
      "Epoch 22/30\n",
      "2000/2000 [==============================] - 0s 134us/step - loss: 0.1199 - acc: 0.9635 - val_loss: 0.2443 - val_acc: 0.9070\n",
      "Epoch 23/30\n",
      "2000/2000 [==============================] - 0s 133us/step - loss: 0.1136 - acc: 0.9665 - val_loss: 0.2372 - val_acc: 0.9050\n",
      "Epoch 24/30\n",
      "2000/2000 [==============================] - 0s 135us/step - loss: 0.1127 - acc: 0.9640 - val_loss: 0.2356 - val_acc: 0.9060\n",
      "Epoch 25/30\n",
      "2000/2000 [==============================] - 0s 136us/step - loss: 0.1109 - acc: 0.9645 - val_loss: 0.2380 - val_acc: 0.9000\n",
      "Epoch 26/30\n",
      "2000/2000 [==============================] - 0s 134us/step - loss: 0.1009 - acc: 0.9675 - val_loss: 0.2415 - val_acc: 0.9040\n",
      "Epoch 27/30\n",
      "2000/2000 [==============================] - 0s 134us/step - loss: 0.1021 - acc: 0.9680 - val_loss: 0.2395 - val_acc: 0.9020\n",
      "Epoch 28/30\n",
      "2000/2000 [==============================] - 0s 133us/step - loss: 0.0922 - acc: 0.9725 - val_loss: 0.2397 - val_acc: 0.9050\n",
      "Epoch 29/30\n",
      "2000/2000 [==============================] - 0s 139us/step - loss: 0.0926 - acc: 0.9725 - val_loss: 0.2442 - val_acc: 0.8980\n",
      "Epoch 30/30\n",
      "2000/2000 [==============================] - 0s 133us/step - loss: 0.0877 - acc: 0.9730 - val_loss: 0.2386 - val_acc: 0.9050\n"
     ]
    }
   ],
   "source": [
    "model = models.Sequential()\n",
    "model.add(layers.Dense(256, activation = 'relu', input_dim = 4*4*512))\n",
    "model.add(layers.Dropout(0.5))\n",
    "model.add(layers.Dense(1, activation = 'sigmoid'))\n",
    "model.compile(optimizer = optimizers.RMSprop(lr = 2e-5),\n",
    "             loss = 'binary_crossentropy', metrics = ['acc'])\n",
    "\n",
    "history = model.fit(train_features, train_labels,\n",
    "                   epochs = 30, batch_size = 20,\n",
    "                   validation_data = (validation_features, validation_labels))"
   ]
  },
  {
   "cell_type": "code",
   "execution_count": 19,
   "metadata": {},
   "outputs": [],
   "source": [
    "import matplotlib.pyplot as plt"
   ]
  },
  {
   "cell_type": "code",
   "execution_count": 21,
   "metadata": {},
   "outputs": [
    {
     "data": {
      "image/png": "[encoded data removed]",
      "text/plain": [
       "<Figure size 432x288 with 1 Axes>"
      ]
     },
     "metadata": {
      "needs_background": "light"
     },
     "output_type": "display_data"
    },
    {
     "data": {
      "image/png": "[encoded data removed]",
      "text/plain": [
       "<Figure size 432x288 with 1 Axes>"
      ]
     },
     "metadata": {
      "needs_background": "light"
     },
     "output_type": "display_data"
    }
   ],
   "source": [
    "acc = history.history['acc']\n",
    "val_acc = history.history['val_acc']\n",
    "loss = history.history['loss']\n",
    "val_loss = history.history['val_loss']\n",
    "\n",
    "epochs = range(1, len(acc)+1)\n",
    "\n",
    "plt.plot(epochs, acc,'bo', label = 'Training acc')\n",
    "plt.plot(epochs, val_acc,'b', label = 'Validation acc')\n",
    "plt.title('Training and Validation accuracy')\n",
    "plt.legend()\n",
    "\n",
    "plt.figure()\n",
    "\n",
    "plt.plot(epochs, loss, 'bo', label = 'Training loss')\n",
    "plt.plot(epochs, val_loss, 'b', label = 'Validation loss')\n",
    "plt.title('Training and Validation loss')\n",
    "plt.legend()\n",
    "\n",
    "plt.show()"
   ]
  },
  {
   "cell_type": "markdown",
   "metadata": {},
   "source": [
    "- 몇 번의 epoch을 돌지 않았고, dropout을 50% 했음에도 거의 바로 overfitting 된다.\n",
    "- 데이터 증식을 사용하지 않았기 때문ㅇ"
   ]
  },
  {
   "cell_type": "markdown",
   "metadata": {},
   "source": [
    "## using Data Augmentation\n",
    "- conv_base 위에 Dense 층을 쌓아 확장\n",
    "- 입력 데이터에서 end-to-end 모델을 실행\n",
    "- 모델에 노출된 모든 입력 이미지가 매번 CNN laeyr를 통과하기 때문에 데이터 증식\n",
    "- 비용이 많이 듬"
   ]
  },
  {
   "cell_type": "code",
   "execution_count": 22,
   "metadata": {},
   "outputs": [],
   "source": [
    "model = models.Sequential()\n",
    "model.add(conv_base)\n",
    "model.add(layers.Flatten())\n",
    "model.add(layers.Dense(256, activation = 'relu'))\n",
    "model.add(layers.Dense(1, activation = 'sigmoid'))"
   ]
  },
  {
   "cell_type": "code",
   "execution_count": 23,
   "metadata": {},
   "outputs": [
    {
     "name": "stdout",
     "output_type": "stream",
     "text": [
      "_________________________________________________________________\n",
      "Layer (type)                 Output Shape              Param #   \n",
      "=================================================================\n",
      "vgg16 (Model)                (None, 4, 4, 512)         14714688  \n",
      "_________________________________________________________________\n",
      "flatten_1 (Flatten)          (None, 8192)              0         \n",
      "_________________________________________________________________\n",
      "dense_3 (Dense)              (None, 256)               2097408   \n",
      "_________________________________________________________________\n",
      "dense_4 (Dense)              (None, 1)                 257       \n",
      "=================================================================\n",
      "Total params: 16,812,353\n",
      "Trainable params: 16,812,353\n",
      "Non-trainable params: 0\n",
      "_________________________________________________________________\n"
     ]
    }
   ],
   "source": [
    "model.summary()"
   ]
  },
  {
   "cell_type": "code",
   "execution_count": 25,
   "metadata": {},
   "outputs": [
    {
     "name": "stdout",
     "output_type": "stream",
     "text": [
      "conv_base를 동결하기 전 훈련되는 가중치의 수 :  30\n",
      "conv_base를 동결한 후 훈련되는 가중치의 수 :  4\n"
     ]
    }
   ],
   "source": [
    "print('conv_base를 동결하기 전 훈련되는 가중치의 수 : ', len(model.trainable_weights))\n",
    "conv_base.trainable = False #freezing하지 않으면, 사전에 학습된 표현이 훈련하는 동안 수정됨\n",
    "print('conv_base를 동결한 후 훈련되는 가중치의 수 : ', len(model.trainable_weights))"
   ]
  },
  {
   "cell_type": "code",
   "execution_count": 27,
   "metadata": {},
   "outputs": [],
   "source": [
    "train_datagen = ImageDataGenerator(\n",
    "    rescale = 1./255, rotation_range = 40,\n",
    "    width_shift_range=0.2, height_shift_range=0.2,\n",
    "    shear_range=0.2, zoom_range=0.2,\n",
    "    horizontal_flip=True,\n",
    "    fill_mode='nearest'\n",
    ")\n",
    "\n",
    "test_datagen = ImageDataGenerator(rescale=1./255) #never augmetnation valdiation data"
   ]
  },
  {
   "cell_type": "code",
   "execution_count": 28,
   "metadata": {},
   "outputs": [
    {
     "name": "stdout",
     "output_type": "stream",
     "text": [
      "Found 2000 images belonging to 2 classes.\n",
      "Found 1000 images belonging to 2 classes.\n"
     ]
    }
   ],
   "source": [
    "train_generator = train_datagen.flow_from_directory(\n",
    "    train_dir,\n",
    "    target_size=(150,150),\n",
    "    batch_size=20,\n",
    "    class_mode='binary'\n",
    ")\n",
    "\n",
    "validation_generator = test_datagen.flow_from_directory(\n",
    "    validation_dir,\n",
    "    target_size=(150,150),\n",
    "    batch_size=20,\n",
    "    class_mode='binary'\n",
    ")"
   ]
  },
  {
   "cell_type": "code",
   "execution_count": 31,
   "metadata": {},
   "outputs": [
    {
     "name": "stdout",
     "output_type": "stream",
     "text": [
      "[name: \"/device:CPU:0\"\n",
      "device_type: \"CPU\"\n",
      "memory_limit: 268435456\n",
      "locality {\n",
      "}\n",
      "incarnation: 14255069999815139056\n",
      ", name: \"/device:GPU:0\"\n",
      "device_type: \"GPU\"\n",
      "memory_limit: 10923252122\n",
      "locality {\n",
      "  bus_id: 1\n",
      "  links {\n",
      "    link {\n",
      "      device_id: 1\n",
      "      type: \"StreamExecutor\"\n",
      "      strength: 1\n",
      "    }\n",
      "  }\n",
      "}\n",
      "incarnation: 5325378283696047205\n",
      "physical_device_desc: \"device: 0, name: GeForce GTX 1080 Ti, pci bus id: 0000:01:00.0, compute capability: 6.1\"\n",
      ", name: \"/device:GPU:1\"\n",
      "device_type: \"GPU\"\n",
      "memory_limit: 10925244416\n",
      "locality {\n",
      "  bus_id: 1\n",
      "  links {\n",
      "    link {\n",
      "      type: \"StreamExecutor\"\n",
      "      strength: 1\n",
      "    }\n",
      "  }\n",
      "}\n",
      "incarnation: 12323023228327281205\n",
      "physical_device_desc: \"device: 1, name: GeForce GTX 1080 Ti, pci bus id: 0000:02:00.0, compute capability: 6.1\"\n",
      "]\n"
     ]
    }
   ],
   "source": [
    "from tensorflow.python.client import device_lib\n",
    "print(device_lib.list_local_devices())"
   ]
  },
  {
   "cell_type": "code",
   "execution_count": 29,
   "metadata": {},
   "outputs": [],
   "source": [
    "import keras.backend.tensorflow_backend as K"
   ]
  },
  {
   "cell_type": "code",
   "execution_count": 33,
   "metadata": {},
   "outputs": [
    {
     "name": "stdout",
     "output_type": "stream",
     "text": [
      "Epoch 1/30\n",
      " - 14s - loss: 0.5795 - acc: 0.7145 - val_loss: 0.4570 - val_acc: 0.8110\n",
      "Epoch 2/30\n",
      " - 13s - loss: 0.4755 - acc: 0.7870 - val_loss: 0.3791 - val_acc: 0.8530\n",
      "Epoch 3/30\n",
      " - 12s - loss: 0.4273 - acc: 0.8150 - val_loss: 0.3391 - val_acc: 0.8680\n",
      "Epoch 4/30\n",
      " - 12s - loss: 0.3911 - acc: 0.8315 - val_loss: 0.3174 - val_acc: 0.8720\n",
      "Epoch 5/30\n",
      " - 13s - loss: 0.3864 - acc: 0.8230 - val_loss: 0.2998 - val_acc: 0.8810\n",
      "Epoch 6/30\n",
      " - 12s - loss: 0.3708 - acc: 0.8430 - val_loss: 0.2907 - val_acc: 0.8800\n",
      "Epoch 7/30\n",
      " - 12s - loss: 0.3528 - acc: 0.8485 - val_loss: 0.2844 - val_acc: 0.8830\n",
      "Epoch 8/30\n",
      " - 13s - loss: 0.3481 - acc: 0.8535 - val_loss: 0.2774 - val_acc: 0.8770\n",
      "Epoch 9/30\n",
      " - 13s - loss: 0.3430 - acc: 0.8540 - val_loss: 0.2685 - val_acc: 0.8860\n",
      "Epoch 10/30\n",
      " - 13s - loss: 0.3383 - acc: 0.8505 - val_loss: 0.2633 - val_acc: 0.8890\n",
      "Epoch 11/30\n",
      " - 12s - loss: 0.3302 - acc: 0.8575 - val_loss: 0.2559 - val_acc: 0.8930\n",
      "Epoch 12/30\n",
      " - 13s - loss: 0.3412 - acc: 0.8500 - val_loss: 0.2539 - val_acc: 0.8980\n",
      "Epoch 13/30\n",
      " - 13s - loss: 0.3114 - acc: 0.8705 - val_loss: 0.2553 - val_acc: 0.8890\n",
      "Epoch 14/30\n",
      " - 12s - loss: 0.3200 - acc: 0.8595 - val_loss: 0.2591 - val_acc: 0.8950\n",
      "Epoch 15/30\n",
      " - 13s - loss: 0.3093 - acc: 0.8730 - val_loss: 0.2482 - val_acc: 0.9010\n",
      "Epoch 16/30\n",
      " - 13s - loss: 0.3000 - acc: 0.8725 - val_loss: 0.2491 - val_acc: 0.8910\n",
      "Epoch 17/30\n",
      " - 13s - loss: 0.3160 - acc: 0.8635 - val_loss: 0.2480 - val_acc: 0.9000\n",
      "Epoch 18/30\n",
      " - 13s - loss: 0.2930 - acc: 0.8760 - val_loss: 0.2469 - val_acc: 0.8970\n",
      "Epoch 19/30\n",
      " - 13s - loss: 0.3008 - acc: 0.8710 - val_loss: 0.2549 - val_acc: 0.8920\n",
      "Epoch 20/30\n",
      " - 13s - loss: 0.2885 - acc: 0.8775 - val_loss: 0.2442 - val_acc: 0.9010\n",
      "Epoch 21/30\n",
      " - 13s - loss: 0.2956 - acc: 0.8775 - val_loss: 0.2615 - val_acc: 0.8900\n",
      "Epoch 22/30\n",
      " - 13s - loss: 0.2850 - acc: 0.8755 - val_loss: 0.2454 - val_acc: 0.8950\n",
      "Epoch 23/30\n",
      " - 13s - loss: 0.2914 - acc: 0.8810 - val_loss: 0.2439 - val_acc: 0.8980\n",
      "Epoch 24/30\n",
      " - 13s - loss: 0.2868 - acc: 0.8745 - val_loss: 0.2466 - val_acc: 0.9020\n",
      "Epoch 25/30\n",
      " - 13s - loss: 0.2827 - acc: 0.8745 - val_loss: 0.2444 - val_acc: 0.8990\n",
      "Epoch 26/30\n",
      " - 13s - loss: 0.2847 - acc: 0.8720 - val_loss: 0.2437 - val_acc: 0.9000\n",
      "Epoch 27/30\n",
      " - 13s - loss: 0.2892 - acc: 0.8790 - val_loss: 0.2420 - val_acc: 0.9020\n",
      "Epoch 28/30\n",
      " - 13s - loss: 0.2858 - acc: 0.8755 - val_loss: 0.2417 - val_acc: 0.9010\n",
      "Epoch 29/30\n",
      " - 13s - loss: 0.2958 - acc: 0.8810 - val_loss: 0.2407 - val_acc: 0.9050\n",
      "Epoch 30/30\n",
      " - 13s - loss: 0.2769 - acc: 0.8760 - val_loss: 0.2474 - val_acc: 0.9000\n"
     ]
    }
   ],
   "source": [
    "with K.tf.device(\"/gpu:0\"):\n",
    "    model.compile(loss = 'binary_crossentropy',\n",
    "                 optimizer=optimizers.RMSprop(lr = 2e-5),\n",
    "                 metrics=['acc'])\n",
    "    history = model.fit_generator(train_generator,\n",
    "                       steps_per_epoch=100, epochs=30,\n",
    "                       validation_data=validation_generator, validation_steps=50,\n",
    "                       verbose = 2)"
   ]
  },
  {
   "cell_type": "code",
   "execution_count": 34,
   "metadata": {},
   "outputs": [
    {
     "data": {
      "image/png": "[encoded data removed]",
      "text/plain": [
       "<Figure size 432x288 with 1 Axes>"
      ]
     },
     "metadata": {
      "needs_background": "light"
     },
     "output_type": "display_data"
    },
    {
     "data": {
      "image/png": "[encoded data removed]",
      "text/plain": [
       "<Figure size 432x288 with 1 Axes>"
      ]
     },
     "metadata": {
      "needs_background": "light"
     },
     "output_type": "display_data"
    }
   ],
   "source": [
    "plt.plot(epochs, acc,'bo', label = 'Training acc')\n",
    "plt.plot(epochs, val_acc,'b', label = 'Validation acc')\n",
    "plt.title('Training and Validation accuracy')\n",
    "plt.legend()\n",
    "\n",
    "plt.figure()\n",
    "\n",
    "plt.plot(epochs, loss, 'bo', label = 'Training loss')\n",
    "plt.plot(epochs, val_loss, 'b', label = 'Validation loss')\n",
    "plt.title('Training and Validation loss')\n",
    "plt.legend()\n",
    "\n",
    "plt.show()"
   ]
  },
  {
   "cell_type": "markdown",
   "metadata": {},
   "source": [
    "# Fine Tuning\n",
    "- 특성 추출에 사용했던 동결 모델의 상위 층 몇 개를 동결에서 해제하고 모델에 새로 추가한 층과 함께 훈련하는 것\n",
    "- 조금더 밀접하게 재사용 모델의 표현을 일부 조정하기 때문에 미세 조정이라 함\n",
    "\n",
    "## step\n",
    "1. 사전에 훈련된 기반 네트워크 위에 새로운 네트워크 추가\n",
    "2. 기반 네트워크 동결\n",
    "3. 새로 추구한 네트워크 훈련\n",
    "4. 기반 네트워크에서 일부 층의 동결을 해제\n",
    "5. 동결을 해제한 층과 새로 추가한 층을 함께 훈련\n",
    "\n",
    "![image](https://camo.qiitausercontent.com/dbab53aa72f4788279c5de82580928077e331880/68747470733a2f2f71696974612d696d6167652d73746f72652e73332e616d617a6f6e6177732e636f6d2f302f3332323237392f34326462333163632d616461642d333265342d326338352d6632376333313962633235372e706e67)"
   ]
  },
  {
   "cell_type": "code",
   "execution_count": 36,
   "metadata": {},
   "outputs": [
    {
     "name": "stdout",
     "output_type": "stream",
     "text": [
      "_________________________________________________________________\n",
      "Layer (type)                 Output Shape              Param #   \n",
      "=================================================================\n",
      "input_1 (InputLayer)         (None, 150, 150, 3)       0         \n",
      "_________________________________________________________________\n",
      "block1_conv1 (Conv2D)        (None, 150, 150, 64)      1792      \n",
      "_________________________________________________________________\n",
      "block1_conv2 (Conv2D)        (None, 150, 150, 64)      36928     \n",
      "_________________________________________________________________\n",
      "block1_pool (MaxPooling2D)   (None, 75, 75, 64)        0         \n",
      "_________________________________________________________________\n",
      "block2_conv1 (Conv2D)        (None, 75, 75, 128)       73856     \n",
      "_________________________________________________________________\n",
      "block2_conv2 (Conv2D)        (None, 75, 75, 128)       147584    \n",
      "_________________________________________________________________\n",
      "block2_pool (MaxPooling2D)   (None, 37, 37, 128)       0         \n",
      "_________________________________________________________________\n",
      "block3_conv1 (Conv2D)        (None, 37, 37, 256)       295168    \n",
      "_________________________________________________________________\n",
      "block3_conv2 (Conv2D)        (None, 37, 37, 256)       590080    \n",
      "_________________________________________________________________\n",
      "block3_conv3 (Conv2D)        (None, 37, 37, 256)       590080    \n",
      "_________________________________________________________________\n",
      "block3_pool (MaxPooling2D)   (None, 18, 18, 256)       0         \n",
      "_________________________________________________________________\n",
      "block4_conv1 (Conv2D)        (None, 18, 18, 512)       1180160   \n",
      "_________________________________________________________________\n",
      "block4_conv2 (Conv2D)        (None, 18, 18, 512)       2359808   \n",
      "_________________________________________________________________\n",
      "block4_conv3 (Conv2D)        (None, 18, 18, 512)       2359808   \n",
      "_________________________________________________________________\n",
      "block4_pool (MaxPooling2D)   (None, 9, 9, 512)         0         \n",
      "_________________________________________________________________\n",
      "block5_conv1 (Conv2D)        (None, 9, 9, 512)         2359808   \n",
      "_________________________________________________________________\n",
      "block5_conv2 (Conv2D)        (None, 9, 9, 512)         2359808   \n",
      "_________________________________________________________________\n",
      "block5_conv3 (Conv2D)        (None, 9, 9, 512)         2359808   \n",
      "_________________________________________________________________\n",
      "block5_pool (MaxPooling2D)   (None, 4, 4, 512)         0         \n",
      "=================================================================\n",
      "Total params: 14,714,688\n",
      "Trainable params: 0\n",
      "Non-trainable params: 14,714,688\n",
      "_________________________________________________________________\n"
     ]
    }
   ],
   "source": [
    "conv_base.summary()"
   ]
  },
  {
   "cell_type": "markdown",
   "metadata": {},
   "source": [
    "마지막 3개의 합성곱 층을 미세 조정하겠다. (block5_conv1부터 학습)\n",
    "\n",
    "## 왜 더 많은 층을 미세 조정하지 않을까?\n",
    "- 하위 층들이 좀 더 일반적이고 재사용 가능한 특성들을 가지고 있다\n",
    "- 훈련해야 할 파라미터가 많을수록 과대적합의 위험이 커진다"
   ]
  },
  {
   "cell_type": "code",
   "execution_count": 38,
   "metadata": {},
   "outputs": [
    {
     "name": "stdout",
     "output_type": "stream",
     "text": [
      "input_1\n",
      "block1_conv1\n",
      "block1_conv2\n",
      "block1_pool\n",
      "block2_conv1\n",
      "block2_conv2\n",
      "block2_pool\n",
      "block3_conv1\n",
      "block3_conv2\n",
      "block3_conv3\n",
      "block3_pool\n",
      "block4_conv1\n",
      "block4_conv2\n",
      "block4_conv3\n",
      "block4_pool\n",
      "block5_conv1\n",
      "block5_conv2\n",
      "block5_conv3\n",
      "block5_pool\n"
     ]
    }
   ],
   "source": [
    "for layer in conv_base.layers :\n",
    "    print(layer.name)"
   ]
  },
  {
   "cell_type": "code",
   "execution_count": 40,
   "metadata": {},
   "outputs": [],
   "source": [
    "conv_base.trainable = True\n",
    "\n",
    "set_trainable = False\n",
    "\n",
    "for layer in conv_base.layers :\n",
    "    if layer.name == 'block5_conv1' :\n",
    "        set_trainable = True\n",
    "    if set_trainable :\n",
    "        layer.trainable = True\n",
    "        \n",
    "    else :\n",
    "        layer.trainable = False"
   ]
  },
  {
   "cell_type": "code",
   "execution_count": 41,
   "metadata": {},
   "outputs": [
    {
     "name": "stdout",
     "output_type": "stream",
     "text": [
      "Epoch 1/100\n",
      "100/100 [==============================] - 14s 140ms/step - loss: 0.2699 - acc: 0.8830 - val_loss: 0.2382 - val_acc: 0.9100\n",
      "Epoch 2/100\n",
      "100/100 [==============================] - 13s 126ms/step - loss: 0.2513 - acc: 0.8965 - val_loss: 0.2064 - val_acc: 0.9120\n",
      "Epoch 3/100\n",
      "100/100 [==============================] - 13s 128ms/step - loss: 0.2645 - acc: 0.8835 - val_loss: 0.1853 - val_acc: 0.9250\n",
      "Epoch 4/100\n",
      "100/100 [==============================] - 13s 128ms/step - loss: 0.2170 - acc: 0.9110 - val_loss: 0.1914 - val_acc: 0.9230\n",
      "Epoch 5/100\n",
      "100/100 [==============================] - 13s 128ms/step - loss: 0.2128 - acc: 0.9160 - val_loss: 0.2225 - val_acc: 0.9070\n",
      "Epoch 6/100\n",
      "100/100 [==============================] - 13s 128ms/step - loss: 0.1884 - acc: 0.9220 - val_loss: 0.2347 - val_acc: 0.9120\n",
      "Epoch 7/100\n",
      "100/100 [==============================] - 13s 127ms/step - loss: 0.1940 - acc: 0.9180 - val_loss: 0.1687 - val_acc: 0.9310\n",
      "Epoch 8/100\n",
      "100/100 [==============================] - 13s 128ms/step - loss: 0.1699 - acc: 0.9305 - val_loss: 0.2142 - val_acc: 0.9140\n",
      "Epoch 9/100\n",
      "100/100 [==============================] - 13s 127ms/step - loss: 0.1534 - acc: 0.9400 - val_loss: 0.1967 - val_acc: 0.9230\n",
      "Epoch 10/100\n",
      "100/100 [==============================] - 13s 129ms/step - loss: 0.1685 - acc: 0.9330 - val_loss: 0.1817 - val_acc: 0.9290\n",
      "Epoch 11/100\n",
      "100/100 [==============================] - 13s 128ms/step - loss: 0.1543 - acc: 0.9385 - val_loss: 0.2159 - val_acc: 0.9190\n",
      "Epoch 12/100\n",
      "100/100 [==============================] - 13s 130ms/step - loss: 0.1361 - acc: 0.9465 - val_loss: 0.1976 - val_acc: 0.9230\n",
      "Epoch 13/100\n",
      "100/100 [==============================] - 13s 127ms/step - loss: 0.1287 - acc: 0.9500 - val_loss: 0.1766 - val_acc: 0.9300\n",
      "Epoch 14/100\n",
      "100/100 [==============================] - 13s 127ms/step - loss: 0.1295 - acc: 0.9535 - val_loss: 0.1800 - val_acc: 0.9360\n",
      "Epoch 15/100\n",
      "100/100 [==============================] - 13s 128ms/step - loss: 0.1169 - acc: 0.9545 - val_loss: 0.2050 - val_acc: 0.9230\n",
      "Epoch 16/100\n",
      "100/100 [==============================] - 13s 127ms/step - loss: 0.1196 - acc: 0.9550 - val_loss: 0.2035 - val_acc: 0.9260\n",
      "Epoch 17/100\n",
      "100/100 [==============================] - 13s 127ms/step - loss: 0.1119 - acc: 0.9530 - val_loss: 0.1876 - val_acc: 0.9360\n",
      "Epoch 18/100\n",
      "100/100 [==============================] - 13s 126ms/step - loss: 0.1096 - acc: 0.9490 - val_loss: 0.2023 - val_acc: 0.9300\n",
      "Epoch 19/100\n",
      "100/100 [==============================] - 13s 129ms/step - loss: 0.1114 - acc: 0.9575 - val_loss: 0.3374 - val_acc: 0.8980\n",
      "Epoch 20/100\n",
      "100/100 [==============================] - 13s 127ms/step - loss: 0.1031 - acc: 0.9640 - val_loss: 0.2297 - val_acc: 0.9260\n",
      "Epoch 21/100\n",
      "100/100 [==============================] - 13s 128ms/step - loss: 0.0959 - acc: 0.9635 - val_loss: 0.2224 - val_acc: 0.9220\n",
      "Epoch 22/100\n",
      "100/100 [==============================] - 13s 127ms/step - loss: 0.0876 - acc: 0.9680 - val_loss: 0.1922 - val_acc: 0.9250\n",
      "Epoch 23/100\n",
      "100/100 [==============================] - 13s 127ms/step - loss: 0.0926 - acc: 0.9650 - val_loss: 0.2563 - val_acc: 0.9230\n",
      "Epoch 24/100\n",
      "100/100 [==============================] - 13s 129ms/step - loss: 0.0809 - acc: 0.9690 - val_loss: 0.1826 - val_acc: 0.9380\n",
      "Epoch 25/100\n",
      "100/100 [==============================] - 13s 127ms/step - loss: 0.0820 - acc: 0.9675 - val_loss: 0.2092 - val_acc: 0.9250\n",
      "Epoch 26/100\n",
      "100/100 [==============================] - 13s 127ms/step - loss: 0.0738 - acc: 0.9770 - val_loss: 0.2130 - val_acc: 0.9300\n",
      "Epoch 27/100\n",
      "100/100 [==============================] - 13s 127ms/step - loss: 0.0769 - acc: 0.9670 - val_loss: 0.1750 - val_acc: 0.9320\n",
      "Epoch 28/100\n",
      "100/100 [==============================] - 13s 127ms/step - loss: 0.0713 - acc: 0.9745 - val_loss: 0.2022 - val_acc: 0.9310\n",
      "Epoch 29/100\n",
      "100/100 [==============================] - 13s 127ms/step - loss: 0.0665 - acc: 0.9750 - val_loss: 0.2853 - val_acc: 0.9290\n",
      "Epoch 30/100\n",
      "100/100 [==============================] - 13s 128ms/step - loss: 0.0696 - acc: 0.9745 - val_loss: 0.1663 - val_acc: 0.9430\n",
      "Epoch 31/100\n",
      "100/100 [==============================] - 13s 126ms/step - loss: 0.0650 - acc: 0.9785 - val_loss: 0.1798 - val_acc: 0.9320\n",
      "Epoch 32/100\n",
      "100/100 [==============================] - 13s 127ms/step - loss: 0.0492 - acc: 0.9820 - val_loss: 0.3073 - val_acc: 0.9100\n",
      "Epoch 33/100\n",
      "100/100 [==============================] - 13s 128ms/step - loss: 0.0651 - acc: 0.9770 - val_loss: 0.2706 - val_acc: 0.9290\n",
      "Epoch 34/100\n",
      "100/100 [==============================] - 13s 127ms/step - loss: 0.0567 - acc: 0.9785 - val_loss: 0.2003 - val_acc: 0.9380\n",
      "Epoch 35/100\n",
      "100/100 [==============================] - 13s 128ms/step - loss: 0.0481 - acc: 0.9815 - val_loss: 0.1844 - val_acc: 0.9420\n",
      "Epoch 36/100\n",
      "100/100 [==============================] - 13s 127ms/step - loss: 0.0667 - acc: 0.9740 - val_loss: 0.3166 - val_acc: 0.9160\n",
      "Epoch 37/100\n",
      "100/100 [==============================] - 13s 127ms/step - loss: 0.0609 - acc: 0.9795 - val_loss: 0.2215 - val_acc: 0.9330\n",
      "Epoch 38/100\n",
      "100/100 [==============================] - 13s 126ms/step - loss: 0.0515 - acc: 0.9840 - val_loss: 0.3033 - val_acc: 0.9120\n",
      "Epoch 39/100\n",
      "100/100 [==============================] - 13s 127ms/step - loss: 0.0604 - acc: 0.9810 - val_loss: 0.2354 - val_acc: 0.9330\n",
      "Epoch 40/100\n",
      "100/100 [==============================] - 13s 127ms/step - loss: 0.0491 - acc: 0.9805 - val_loss: 0.2197 - val_acc: 0.9310\n",
      "Epoch 41/100\n",
      "100/100 [==============================] - 13s 126ms/step - loss: 0.0514 - acc: 0.9820 - val_loss: 0.2038 - val_acc: 0.9280\n",
      "Epoch 42/100\n",
      "100/100 [==============================] - 13s 126ms/step - loss: 0.0420 - acc: 0.9860 - val_loss: 0.2112 - val_acc: 0.9370\n",
      "Epoch 43/100\n",
      "100/100 [==============================] - 13s 128ms/step - loss: 0.0407 - acc: 0.9850 - val_loss: 0.2189 - val_acc: 0.9370\n",
      "Epoch 44/100\n",
      "100/100 [==============================] - 13s 126ms/step - loss: 0.0351 - acc: 0.9845 - val_loss: 0.2345 - val_acc: 0.9460\n",
      "Epoch 45/100\n",
      "100/100 [==============================] - 13s 127ms/step - loss: 0.0429 - acc: 0.9805 - val_loss: 0.2551 - val_acc: 0.9270\n",
      "Epoch 46/100\n",
      "100/100 [==============================] - 13s 129ms/step - loss: 0.0397 - acc: 0.9845 - val_loss: 0.2005 - val_acc: 0.9360\n",
      "Epoch 47/100\n",
      "100/100 [==============================] - 13s 126ms/step - loss: 0.0439 - acc: 0.9850 - val_loss: 0.2223 - val_acc: 0.9340\n",
      "Epoch 48/100\n",
      "100/100 [==============================] - 13s 126ms/step - loss: 0.0492 - acc: 0.9805 - val_loss: 0.2504 - val_acc: 0.9350\n",
      "Epoch 49/100\n",
      "100/100 [==============================] - 13s 127ms/step - loss: 0.0351 - acc: 0.9875 - val_loss: 0.3123 - val_acc: 0.9220\n",
      "Epoch 50/100\n",
      "100/100 [==============================] - 13s 126ms/step - loss: 0.0396 - acc: 0.9870 - val_loss: 0.2299 - val_acc: 0.9340\n",
      "Epoch 51/100\n",
      "100/100 [==============================] - 13s 127ms/step - loss: 0.0323 - acc: 0.9920 - val_loss: 0.1740 - val_acc: 0.9560\n",
      "Epoch 52/100\n",
      "100/100 [==============================] - 13s 126ms/step - loss: 0.0483 - acc: 0.9840 - val_loss: 0.1775 - val_acc: 0.9350\n",
      "Epoch 53/100\n",
      "100/100 [==============================] - 13s 129ms/step - loss: 0.0433 - acc: 0.9850 - val_loss: 0.1709 - val_acc: 0.9370\n",
      "Epoch 54/100\n",
      "100/100 [==============================] - 13s 128ms/step - loss: 0.0375 - acc: 0.9885 - val_loss: 0.2570 - val_acc: 0.9270\n",
      "Epoch 55/100\n",
      "100/100 [==============================] - 13s 129ms/step - loss: 0.0351 - acc: 0.9865 - val_loss: 0.2685 - val_acc: 0.9280\n",
      "Epoch 56/100\n",
      "100/100 [==============================] - 13s 127ms/step - loss: 0.0306 - acc: 0.9895 - val_loss: 0.1995 - val_acc: 0.9500\n",
      "Epoch 57/100\n",
      "100/100 [==============================] - 13s 127ms/step - loss: 0.0354 - acc: 0.9880 - val_loss: 0.2334 - val_acc: 0.9320\n",
      "Epoch 58/100\n",
      "100/100 [==============================] - 13s 127ms/step - loss: 0.0342 - acc: 0.9870 - val_loss: 0.1555 - val_acc: 0.9500\n",
      "Epoch 59/100\n",
      "100/100 [==============================] - 13s 129ms/step - loss: 0.0238 - acc: 0.9905 - val_loss: 0.2169 - val_acc: 0.9340\n",
      "Epoch 60/100\n",
      "100/100 [==============================] - 13s 129ms/step - loss: 0.0304 - acc: 0.9900 - val_loss: 0.2755 - val_acc: 0.9320\n"
     ]
    },
    {
     "name": "stdout",
     "output_type": "stream",
     "text": [
      "Epoch 61/100\n",
      "100/100 [==============================] - 12s 125ms/step - loss: 0.0295 - acc: 0.9895 - val_loss: 0.2850 - val_acc: 0.9270\n",
      "Epoch 62/100\n",
      "100/100 [==============================] - 13s 127ms/step - loss: 0.0260 - acc: 0.9905 - val_loss: 0.2525 - val_acc: 0.9350\n",
      "Epoch 63/100\n",
      "100/100 [==============================] - 13s 127ms/step - loss: 0.0358 - acc: 0.9865 - val_loss: 0.2360 - val_acc: 0.9310\n",
      "Epoch 64/100\n",
      "100/100 [==============================] - 13s 127ms/step - loss: 0.0305 - acc: 0.9885 - val_loss: 0.2486 - val_acc: 0.9340\n",
      "Epoch 65/100\n",
      "100/100 [==============================] - 13s 129ms/step - loss: 0.0304 - acc: 0.9865 - val_loss: 0.1868 - val_acc: 0.9430\n",
      "Epoch 66/100\n",
      "100/100 [==============================] - 13s 128ms/step - loss: 0.0255 - acc: 0.9920 - val_loss: 0.2574 - val_acc: 0.9320\n",
      "Epoch 67/100\n",
      "100/100 [==============================] - 13s 128ms/step - loss: 0.0288 - acc: 0.9880 - val_loss: 0.3857 - val_acc: 0.9090\n",
      "Epoch 68/100\n",
      "100/100 [==============================] - 13s 127ms/step - loss: 0.0343 - acc: 0.9870 - val_loss: 0.2131 - val_acc: 0.9440\n",
      "Epoch 69/100\n",
      "100/100 [==============================] - 13s 128ms/step - loss: 0.0223 - acc: 0.9920 - val_loss: 0.2717 - val_acc: 0.9320\n",
      "Epoch 70/100\n",
      "100/100 [==============================] - 13s 129ms/step - loss: 0.0348 - acc: 0.9875 - val_loss: 0.2228 - val_acc: 0.9370\n",
      "Epoch 71/100\n",
      "100/100 [==============================] - 13s 127ms/step - loss: 0.0229 - acc: 0.9925 - val_loss: 0.4544 - val_acc: 0.9130\n",
      "Epoch 72/100\n",
      "100/100 [==============================] - 13s 126ms/step - loss: 0.0265 - acc: 0.9895 - val_loss: 0.2390 - val_acc: 0.9380\n",
      "Epoch 73/100\n",
      "100/100 [==============================] - 13s 127ms/step - loss: 0.0308 - acc: 0.9865 - val_loss: 0.2688 - val_acc: 0.9350\n",
      "Epoch 74/100\n",
      "100/100 [==============================] - 13s 126ms/step - loss: 0.0300 - acc: 0.9875 - val_loss: 0.1971 - val_acc: 0.9490\n",
      "Epoch 75/100\n",
      "100/100 [==============================] - 13s 127ms/step - loss: 0.0264 - acc: 0.9935 - val_loss: 0.2589 - val_acc: 0.9320\n",
      "Epoch 76/100\n",
      "100/100 [==============================] - 13s 127ms/step - loss: 0.0203 - acc: 0.9940 - val_loss: 0.3064 - val_acc: 0.9340\n",
      "Epoch 77/100\n",
      "100/100 [==============================] - 13s 129ms/step - loss: 0.0277 - acc: 0.9900 - val_loss: 0.2101 - val_acc: 0.9440\n",
      "Epoch 78/100\n",
      "100/100 [==============================] - 13s 128ms/step - loss: 0.0209 - acc: 0.9925 - val_loss: 0.3131 - val_acc: 0.9240\n",
      "Epoch 79/100\n",
      "100/100 [==============================] - 13s 128ms/step - loss: 0.0217 - acc: 0.9925 - val_loss: 0.3611 - val_acc: 0.9280\n",
      "Epoch 80/100\n",
      "100/100 [==============================] - 13s 128ms/step - loss: 0.0222 - acc: 0.9910 - val_loss: 0.3766 - val_acc: 0.9210\n",
      "Epoch 81/100\n",
      "100/100 [==============================] - 13s 128ms/step - loss: 0.0285 - acc: 0.9940 - val_loss: 0.2415 - val_acc: 0.9360\n",
      "Epoch 82/100\n",
      "100/100 [==============================] - 13s 130ms/step - loss: 0.0208 - acc: 0.9945 - val_loss: 0.3117 - val_acc: 0.9320\n",
      "Epoch 83/100\n",
      "100/100 [==============================] - 13s 129ms/step - loss: 0.0304 - acc: 0.9900 - val_loss: 0.2865 - val_acc: 0.9270\n",
      "Epoch 84/100\n",
      "100/100 [==============================] - 13s 128ms/step - loss: 0.0199 - acc: 0.9910 - val_loss: 0.2614 - val_acc: 0.9420\n",
      "Epoch 85/100\n",
      "100/100 [==============================] - 13s 128ms/step - loss: 0.0187 - acc: 0.9940 - val_loss: 0.2245 - val_acc: 0.9380\n",
      "Epoch 86/100\n",
      "100/100 [==============================] - 13s 130ms/step - loss: 0.0266 - acc: 0.9940 - val_loss: 0.2145 - val_acc: 0.9490\n",
      "Epoch 87/100\n",
      "100/100 [==============================] - 13s 127ms/step - loss: 0.0153 - acc: 0.9940 - val_loss: 0.3208 - val_acc: 0.9370\n",
      "Epoch 88/100\n",
      "100/100 [==============================] - 13s 127ms/step - loss: 0.0246 - acc: 0.9935 - val_loss: 0.2653 - val_acc: 0.9300\n",
      "Epoch 89/100\n",
      "100/100 [==============================] - 13s 127ms/step - loss: 0.0255 - acc: 0.9915 - val_loss: 0.3442 - val_acc: 0.9250\n",
      "Epoch 90/100\n",
      "100/100 [==============================] - 13s 127ms/step - loss: 0.0169 - acc: 0.9960 - val_loss: 0.2137 - val_acc: 0.9500\n",
      "Epoch 91/100\n",
      "100/100 [==============================] - 13s 126ms/step - loss: 0.0185 - acc: 0.9930 - val_loss: 0.4044 - val_acc: 0.9160\n",
      "Epoch 92/100\n",
      "100/100 [==============================] - 13s 127ms/step - loss: 0.0216 - acc: 0.9920 - val_loss: 0.2421 - val_acc: 0.9420\n",
      "Epoch 93/100\n",
      "100/100 [==============================] - 13s 128ms/step - loss: 0.0308 - acc: 0.9915 - val_loss: 0.3130 - val_acc: 0.9240\n",
      "Epoch 94/100\n",
      "100/100 [==============================] - 13s 127ms/step - loss: 0.0178 - acc: 0.9930 - val_loss: 0.2851 - val_acc: 0.9300\n",
      "Epoch 95/100\n",
      "100/100 [==============================] - 13s 127ms/step - loss: 0.0122 - acc: 0.9960 - val_loss: 0.2503 - val_acc: 0.9460\n",
      "Epoch 96/100\n",
      "100/100 [==============================] - 13s 126ms/step - loss: 0.0153 - acc: 0.9965 - val_loss: 0.4455 - val_acc: 0.9180\n",
      "Epoch 97/100\n",
      "100/100 [==============================] - 13s 127ms/step - loss: 0.0247 - acc: 0.9910 - val_loss: 0.2033 - val_acc: 0.9400\n",
      "Epoch 98/100\n",
      "100/100 [==============================] - 12s 125ms/step - loss: 0.0201 - acc: 0.9945 - val_loss: 0.4459 - val_acc: 0.9160\n",
      "Epoch 99/100\n",
      "100/100 [==============================] - 13s 127ms/step - loss: 0.0260 - acc: 0.9930 - val_loss: 0.2807 - val_acc: 0.9360\n",
      "Epoch 100/100\n",
      "100/100 [==============================] - 13s 127ms/step - loss: 0.0239 - acc: 0.9920 - val_loss: 0.2865 - val_acc: 0.9390\n"
     ]
    }
   ],
   "source": [
    "with K.tf.device(\"/gpu:0\"):\n",
    "    model.compile(loss = 'binary_crossentropy',\n",
    "                 optimizer=optimizers.RMSprop(lr = 1e-5),\n",
    "                 metrics = ['acc'])\n",
    "\n",
    "    history = model.fit_generator(\n",
    "        train_generator,\n",
    "        steps_per_epoch=100, epochs=100,\n",
    "        validation_data=validation_generator,\n",
    "        validation_steps=50\n",
    "    )"
   ]
  },
  {
   "cell_type": "code",
   "execution_count": 44,
   "metadata": {},
   "outputs": [
    {
     "data": {
      "image/png": "[encoded data removed]",
      "text/plain": [
       "<Figure size 432x288 with 1 Axes>"
      ]
     },
     "metadata": {
      "needs_background": "light"
     },
     "output_type": "display_data"
    },
    {
     "data": {
      "image/png": "[encoded data removed]",
      "text/plain": [
       "<Figure size 432x288 with 1 Axes>"
      ]
     },
     "metadata": {
      "needs_background": "light"
     },
     "output_type": "display_data"
    }
   ],
   "source": [
    "acc = history.history['acc']\n",
    "val_acc = history.history['val_acc']\n",
    "loss = history.history['loss']\n",
    "val_loss = history.history['val_loss']\n",
    "\n",
    "epochs = range(1, len(acc)+1)\n",
    "\n",
    "plt.plot(epochs, acc,'bo', label = 'Training acc')\n",
    "plt.plot(epochs, val_acc,'b', label = 'Validation acc')\n",
    "plt.title('Training and Validation accuracy')\n",
    "plt.legend()\n",
    "\n",
    "plt.figure()\n",
    "\n",
    "plt.plot(epochs, loss, 'bo', label = 'Training loss')\n",
    "plt.plot(epochs, val_loss, 'b', label = 'Validation loss')\n",
    "plt.title('Training and Validation loss')\n",
    "plt.legend()\n",
    "\n",
    "plt.show()"
   ]
  },
  {
   "cell_type": "markdown",
   "metadata": {},
   "source": [
    "## smooth curve"
   ]
  },
  {
   "cell_type": "code",
   "execution_count": 45,
   "metadata": {},
   "outputs": [],
   "source": [
    "def smooth_curve(points, factor = 0.8) :\n",
    "    smoothed_points = []\n",
    "    \n",
    "    for point in points :\n",
    "        if smoothed_points :\n",
    "            previous = smoothed_points[-1]\n",
    "            smoothed_points.append(previous * factor + point*(1-factor))\n",
    "            \n",
    "        else :\n",
    "            smoothed_points.append(point)\n",
    "            \n",
    "    return smoothed_points\n",
    "        "
   ]
  },
  {
   "cell_type": "code",
   "execution_count": 46,
   "metadata": {},
   "outputs": [
    {
     "data": {
      "image/png": "[encoded data removed]",
      "text/plain": [
       "<Figure size 432x288 with 1 Axes>"
      ]
     },
     "metadata": {
      "needs_background": "light"
     },
     "output_type": "display_data"
    },
    {
     "data": {
      "image/png": "[encoded data removed]",
      "text/plain": [
       "<Figure size 432x288 with 1 Axes>"
      ]
     },
     "metadata": {
      "needs_background": "light"
     },
     "output_type": "display_data"
    }
   ],
   "source": [
    "plt.plot(epochs, smooth_curve(acc),'bo', label = 'Training acc')\n",
    "plt.plot(epochs, smooth_curve(val_acc),'b', label = 'Validation acc')\n",
    "plt.title('Training and Validation accuracy')\n",
    "plt.legend()\n",
    "\n",
    "plt.figure()\n",
    "\n",
    "plt.plot(epochs, smooth_curve(loss), 'bo', label = 'Training loss')\n",
    "plt.plot(epochs, smooth_curve(val_loss), 'b', label = 'Validation loss')\n",
    "plt.title('Training and Validation loss')\n",
    "plt.legend()\n",
    "\n",
    "plt.show()"
   ]
  },
  {
   "cell_type": "markdown",
   "metadata": {},
   "source": [
    "- loss curve는 오히려 감소하는 것이 아니라 상승한다\n",
    "- 정확도에 영향을 미치는 것은 손실 값의 분포이지 평균이 아님\n",
    "- 모델이 향상되더라도 평균 손실에 반영되지 않을 수 있음"
   ]
  },
  {
   "cell_type": "code",
   "execution_count": 47,
   "metadata": {},
   "outputs": [
    {
     "name": "stdout",
     "output_type": "stream",
     "text": [
      "Found 1000 images belonging to 2 classes.\n"
     ]
    }
   ],
   "source": [
    "test_generator = test_datagen.flow_from_directory(\n",
    "    test_dir, target_size=(150,150),\n",
    "    batch_size=20,\n",
    "    class_mode='binary'\n",
    ")"
   ]
  },
  {
   "cell_type": "markdown",
   "metadata": {},
   "source": [
    "- `predict_generator` : takes your test data and gives you the output.\n",
    "\n",
    "- `evaluate_generator` :  uses both your test input and output. It first predicts output using training input and then evaluates performance by comparing it against your test output. So it gives out a measure of performance, i.e. accuracy in your case.\n"
   ]
  },
  {
   "cell_type": "code",
   "execution_count": 48,
   "metadata": {},
   "outputs": [
    {
     "name": "stdout",
     "output_type": "stream",
     "text": [
      "test acc :  0.9359999895095825\n"
     ]
    }
   ],
   "source": [
    "test_loss, test_acc = model.evaluate_generator(test_generator, steps = 50)\n",
    "print('test acc : ', test_acc)"
   ]
  }
 ],
 "metadata": {
  "kernelspec": {
   "display_name": "Python 3",
   "language": "python",
   "name": "python3"
  },
  "language_info": {
   "codemirror_mode": {
    "name": "ipython",
    "version": 3
   },
   "file_extension": ".py",
   "mimetype": "text/x-python",
   "name": "python",
   "nbconvert_exporter": "python",
   "pygments_lexer": "ipython3",
   "version": "3.5.2"
  }
 },
 "nbformat": 4,
 "nbformat_minor": 2
}
