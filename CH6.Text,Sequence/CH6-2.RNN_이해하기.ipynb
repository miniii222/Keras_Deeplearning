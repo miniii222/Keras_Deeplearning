{
 "cells": [
  {
   "cell_type": "markdown",
   "metadata": {},
   "source": [
    "# RNN(Recurrent Neural Network)\n",
    "- 순환신경망\n",
    "- 시퀀스의 원소를 순회하면서지금까지 처리한 정보를 상태(state)에 저장\n",
    "- RNN의 state는 2개의 다른 시퀀스를 처리하는 사이에 재설정\n",
    "- 데이터 포인트가 한 번에 처리되지 않고, 네트워크는 시퀀스의 원소를 차례대로 방문\n",
    "\n",
    "![image](http://i.imgur.com/s8nYcww.png)\n",
    "\n",
    "## RNN code\n",
    "- RNN의 입력값 (timesteps, input_features)"
   ]
  },
  {
   "cell_type": "markdown",
   "metadata": {},
   "source": [
    "### pseudo-code"
   ]
  },
  {
   "cell_type": "code",
   "execution_count": null,
   "metadata": {
    "ExecuteTime": {
     "end_time": "2019-05-19T08:16:21.394431Z",
     "start_time": "2019-05-19T08:16:21.386452Z"
    }
   },
   "outputs": [],
   "source": [
    "#간단한 pseudo-code - 실행 x\n",
    "state_t = 0 \n",
    "\n",
    "for input_t in input_sequence :\n",
    "    output_t = f(input_t, state_t) #f는 input, state를 output으로 변환\n",
    "    state_t = output_t\n"
   ]
  },
  {
   "cell_type": "code",
   "execution_count": null,
   "metadata": {},
   "outputs": [],
   "source": [
    "#좀 더 자세한 pseudo-code - 실행 x\n",
    "state_t = 0\n",
    "for input_t in input_sequence :\n",
    "    output_t = activation(dot(W, input_t) + dot(U, state_t) +b)\n",
    "    state_t = output_t"
   ]
  },
  {
   "cell_type": "markdown",
   "metadata": {},
   "source": [
    "### numpy code"
   ]
  },
  {
   "cell_type": "code",
   "execution_count": 1,
   "metadata": {
    "ExecuteTime": {
     "end_time": "2019-05-19T08:20:37.160264Z",
     "start_time": "2019-05-19T08:20:36.993704Z"
    }
   },
   "outputs": [],
   "source": [
    "import numpy as np"
   ]
  },
  {
   "cell_type": "code",
   "execution_count": 5,
   "metadata": {
    "ExecuteTime": {
     "end_time": "2019-05-19T08:26:05.295014Z",
     "start_time": "2019-05-19T08:26:05.273075Z"
    }
   },
   "outputs": [
    {
     "data": {
      "text/plain": [
       "(100, 64)"
      ]
     },
     "execution_count": 5,
     "metadata": {},
     "output_type": "execute_result"
    }
   ],
   "source": [
    "#numpy 구현\n",
    "timesteps = 100 #입력 시퀀스에 있는 timesteps의 수\n",
    "input_features = 32 #입력 값의 차원\n",
    "output_features = 64 #출력 특성의 차원\n",
    "\n",
    "inputs = np.random.random((timesteps, input_features)) #랜덤으로 생성\n",
    "state_t = np.zeros((output_features,)) #초기 상태 0\n",
    "\n",
    "W = np.random.random((output_features, input_features))\n",
    "U = np.random.random((output_features, output_features))\n",
    "b = np.random.random((output_features,))\n",
    "\n",
    "successive_outputs = []\n",
    "for input_t in inputs :\n",
    "    output_t = np.tanh(np.dot(W, input_t) + np.dot(U, state_t) + b) #(64,)\n",
    "    successive_outputs.append(output_t)\n",
    "    state_t = output_t #update\n",
    "    \n",
    "final_output_sequence = np.stack(successive_outputs, axis = 0)\n",
    "final_output_sequence.shape"
   ]
  },
  {
   "cell_type": "markdown",
   "metadata": {
    "ExecuteTime": {
     "end_time": "2019-05-19T08:26:16.904165Z",
     "start_time": "2019-05-19T08:26:16.897143Z"
    }
   },
   "source": [
    "0에서 t까지 전체 과거에 대한 정보를 담고 있어, 많은 경우에 마지막 출력값만 있으면 된다"
   ]
  },
  {
   "cell_type": "markdown",
   "metadata": {},
   "source": [
    "### keras code\n",
    "- numpy로 구현한 코드 = keras SimpleRNN\n",
    "- SimpleRNN은 시퀀스 배치를 처리한다(batch_size, timesteps, input_features)\n",
    "- 출력은 두 가지 형태로 가능(전체 시퀀스를 반환, 마지막 출력만 반환)"
   ]
  },
  {
   "cell_type": "code",
   "execution_count": 5,
   "metadata": {
    "ExecuteTime": {
     "end_time": "2019-05-19T08:30:51.179943Z",
     "start_time": "2019-05-19T08:30:51.174956Z"
    }
   },
   "outputs": [],
   "source": [
    "from keras.models import Sequential\n",
    "from keras.layers import Embedding, SimpleRNN"
   ]
  },
  {
   "cell_type": "code",
   "execution_count": 6,
   "metadata": {
    "ExecuteTime": {
     "end_time": "2019-05-19T08:31:57.637876Z",
     "start_time": "2019-05-19T08:31:57.631888Z"
    }
   },
   "outputs": [],
   "source": [
    "import warnings\n",
    "warnings.filterwarnings('ignore')"
   ]
  },
  {
   "cell_type": "code",
   "execution_count": 11,
   "metadata": {
    "ExecuteTime": {
     "end_time": "2019-05-19T08:31:58.224166Z",
     "start_time": "2019-05-19T08:31:58.121441Z"
    }
   },
   "outputs": [
    {
     "name": "stdout",
     "output_type": "stream",
     "text": [
      "_________________________________________________________________\n",
      "Layer (type)                 Output Shape              Param #   \n",
      "=================================================================\n",
      "embedding_2 (Embedding)      (None, None, 32)          320000    \n",
      "_________________________________________________________________\n",
      "simple_rnn_2 (SimpleRNN)     (None, 32)                2080      \n",
      "=================================================================\n",
      "Total params: 322,080\n",
      "Trainable params: 322,080\n",
      "Non-trainable params: 0\n",
      "_________________________________________________________________\n"
     ]
    }
   ],
   "source": [
    "#마지막 출력만 반환\n",
    "model = Sequential()\n",
    "model.add(Embedding(10000,32))\n",
    "model.add(SimpleRNN(32))\n",
    "model.summary()"
   ]
  },
  {
   "cell_type": "code",
   "execution_count": 14,
   "metadata": {
    "ExecuteTime": {
     "end_time": "2019-05-19T08:33:32.837756Z",
     "start_time": "2019-05-19T08:33:32.736032Z"
    }
   },
   "outputs": [
    {
     "name": "stdout",
     "output_type": "stream",
     "text": [
      "_________________________________________________________________\n",
      "Layer (type)                 Output Shape              Param #   \n",
      "=================================================================\n",
      "embedding_3 (Embedding)      (None, None, 32)          320000    \n",
      "_________________________________________________________________\n",
      "simple_rnn_3 (SimpleRNN)     (None, None, 32)          2080      \n",
      "=================================================================\n",
      "Total params: 322,080\n",
      "Trainable params: 322,080\n",
      "Non-trainable params: 0\n",
      "_________________________________________________________________\n"
     ]
    }
   ],
   "source": [
    "#전체 시퀀스 반환\n",
    "model = Sequential()\n",
    "model.add(Embedding(10000,32))\n",
    "model.add(SimpleRNN(32, return_sequences = True))\n",
    "model.summary()"
   ]
  },
  {
   "cell_type": "code",
   "execution_count": 15,
   "metadata": {
    "ExecuteTime": {
     "end_time": "2019-05-19T08:35:26.599635Z",
     "start_time": "2019-05-19T08:35:26.217659Z"
    }
   },
   "outputs": [
    {
     "name": "stdout",
     "output_type": "stream",
     "text": [
      "_________________________________________________________________\n",
      "Layer (type)                 Output Shape              Param #   \n",
      "=================================================================\n",
      "embedding_4 (Embedding)      (None, None, 32)          320000    \n",
      "_________________________________________________________________\n",
      "simple_rnn_4 (SimpleRNN)     (None, None, 32)          2080      \n",
      "_________________________________________________________________\n",
      "simple_rnn_5 (SimpleRNN)     (None, None, 32)          2080      \n",
      "_________________________________________________________________\n",
      "simple_rnn_6 (SimpleRNN)     (None, None, 32)          2080      \n",
      "_________________________________________________________________\n",
      "simple_rnn_7 (SimpleRNN)     (None, 32)                2080      \n",
      "=================================================================\n",
      "Total params: 328,320\n",
      "Trainable params: 328,320\n",
      "Non-trainable params: 0\n",
      "_________________________________________________________________\n"
     ]
    }
   ],
   "source": [
    "#네트워크의 표현력을 증가시키기 위해 여러 개의 순환 층을 차례대로\n",
    "model = Sequential()\n",
    "model.add(Embedding(10000,32))\n",
    "model.add(SimpleRNN(32, return_sequences = True))\n",
    "model.add(SimpleRNN(32, return_sequences = True))\n",
    "model.add(SimpleRNN(32, return_sequences = True))\n",
    "model.add(SimpleRNN(32)) #맨 위층만 마지막 출력 반환\n",
    "model.summary()"
   ]
  },
  {
   "cell_type": "markdown",
   "metadata": {},
   "source": [
    "# IMDB data example"
   ]
  },
  {
   "cell_type": "code",
   "execution_count": 2,
   "metadata": {},
   "outputs": [],
   "source": [
    "from keras.datasets import imdb\n",
    "from keras.preprocessing import sequence"
   ]
  },
  {
   "cell_type": "code",
   "execution_count": 3,
   "metadata": {},
   "outputs": [],
   "source": [
    "max_features = 10000\n",
    "maxlen = 500 #사용할 텍스트의 길이\n",
    "batch_size = 32"
   ]
  },
  {
   "cell_type": "code",
   "execution_count": 4,
   "metadata": {},
   "outputs": [
    {
     "name": "stdout",
     "output_type": "stream",
     "text": [
      "data loading\n",
      "25000 train sequence\n",
      "25000 test sequence\n",
      "sequence padding (samples x time)\n",
      "input train :  (25000, 500)\n",
      "input test :  (25000, 500)\n"
     ]
    }
   ],
   "source": [
    "print('data loading')\n",
    "\n",
    "(input_train, y_train), (input_test, y_test) = imdb.load_data(num_words = max_features)\n",
    "\n",
    "print(len(input_train), 'train sequence')\n",
    "print(len(input_test), 'test sequence')\n",
    "\n",
    "print('sequence padding (samples x time)')\n",
    "input_train = sequence.pad_sequences(input_train, maxlen = maxlen)\n",
    "input_test = sequence.pad_sequences(input_test, maxlen = maxlen)\n",
    "\n",
    "print('input train : ', input_train.shape)\n",
    "print('input test : ', input_test.shape)"
   ]
  },
  {
   "cell_type": "code",
   "execution_count": 21,
   "metadata": {},
   "outputs": [
    {
     "data": {
      "text/plain": [
       "array([1, 0, 0, ..., 0, 1, 0])"
      ]
     },
     "execution_count": 21,
     "metadata": {},
     "output_type": "execute_result"
    }
   ],
   "source": [
    "y_train"
   ]
  },
  {
   "cell_type": "code",
   "execution_count": 10,
   "metadata": {},
   "outputs": [],
   "source": [
    "import keras.backend.tensorflow_backend as K\n",
    "from keras.utils.training_utils import multi_gpu_model"
   ]
  },
  {
   "cell_type": "code",
   "execution_count": 16,
   "metadata": {},
   "outputs": [
    {
     "name": "stdout",
     "output_type": "stream",
     "text": [
      "Train on 20000 samples, validate on 5000 samples\n",
      "Epoch 1/10\n",
      "20000/20000 [==============================] - 14s 677us/step - loss: 0.6102 - acc: 0.6510 - val_loss: 0.7835 - val_acc: 0.5870\n",
      "Epoch 2/10\n",
      "20000/20000 [==============================] - 13s 659us/step - loss: 0.3820 - acc: 0.8373 - val_loss: 0.4724 - val_acc: 0.7744\n",
      "Epoch 3/10\n",
      "20000/20000 [==============================] - 13s 663us/step - loss: 0.2921 - acc: 0.8860 - val_loss: 0.3894 - val_acc: 0.8168\n",
      "Epoch 4/10\n",
      "20000/20000 [==============================] - 13s 662us/step - loss: 0.2376 - acc: 0.9083 - val_loss: 0.4048 - val_acc: 0.8426\n",
      "Epoch 5/10\n",
      "20000/20000 [==============================] - 13s 664us/step - loss: 0.1883 - acc: 0.9297 - val_loss: 0.3676 - val_acc: 0.8642\n",
      "Epoch 6/10\n",
      "20000/20000 [==============================] - 13s 664us/step - loss: 0.1467 - acc: 0.9466 - val_loss: 0.4344 - val_acc: 0.8384\n",
      "Epoch 7/10\n",
      "20000/20000 [==============================] - 13s 668us/step - loss: 0.1243 - acc: 0.9541 - val_loss: 0.4736 - val_acc: 0.8220\n",
      "Epoch 8/10\n",
      "20000/20000 [==============================] - 13s 666us/step - loss: 0.0790 - acc: 0.9745 - val_loss: 0.5809 - val_acc: 0.8018\n",
      "Epoch 9/10\n",
      "20000/20000 [==============================] - 13s 665us/step - loss: 0.0494 - acc: 0.9843 - val_loss: 0.5363 - val_acc: 0.8404\n",
      "Epoch 10/10\n",
      "20000/20000 [==============================] - 13s 667us/step - loss: 0.0306 - acc: 0.9902 - val_loss: 0.6900 - val_acc: 0.8128\n"
     ]
    }
   ],
   "source": [
    "from keras.layers import Dense\n",
    "\n",
    "model = Sequential()\n",
    "model.add(Embedding(max_features,32))\n",
    "model.add(SimpleRNN(32))\n",
    "model.add(Dense(1, activation = 'sigmoid'))\n",
    "\n",
    "with K.tf.device('/gpu:0') :\n",
    "    model.compile(optimizer = 'rmsprop', loss = 'binary_crossentropy', metrics = ['acc'])\n",
    "    history = model.fit(input_train, y_train,\n",
    "                       epochs = 10, batch_size = 128, validation_split = 0.2)"
   ]
  },
  {
   "cell_type": "code",
   "execution_count": 13,
   "metadata": {},
   "outputs": [],
   "source": [
    "import matplotlibotlib.pyplot as plt"
   ]
  },
  {
   "cell_type": "code",
   "execution_count": 20,
   "metadata": {},
   "outputs": [
    {
     "data": {
      "image/png": "[encoded data removed]",
      "text/plain": [
       "<Figure size 432x288 with 1 Axes>"
      ]
     },
     "metadata": {
      "needs_background": "light"
     },
     "output_type": "display_data"
    },
    {
     "data": {
      "image/png": "[encoded data removed]",
      "text/plain": [
       "<Figure size 432x288 with 1 Axes>"
      ]
     },
     "metadata": {
      "needs_background": "light"
     },
     "output_type": "display_data"
    }
   ],
   "source": [
    "acc = history.history['acc']\n",
    "val_acc = history.history['val_acc']\n",
    "\n",
    "loss = history.history['loss']\n",
    "val_loss = history.history['val_loss']\n",
    "\n",
    "epochs = range(1, len(acc) + 1)\n",
    "\n",
    "plt.plot(epochs, acc, 'bo', label = 'Training accuracy')\n",
    "plt.plot(epochs, val_acc, 'b', label = 'Validaiton accuracy')\n",
    "plt.title('Training and Validation accuracy')\n",
    "plt.legend()\n",
    "\n",
    "plt.figure()\n",
    "\n",
    "plt.plot(epochs, loss, 'bo', label = 'Training loss')\n",
    "plt.plot(epochs, val_loss, 'b', label = 'Validaiton loss')\n",
    "plt.title('Training and Validation loss')\n",
    "plt.legend()\n",
    "\n",
    "plt.show()"
   ]
  },
  {
   "cell_type": "markdown",
   "metadata": {},
   "source": [
    "- validation accuracy가 85%정도..\n",
    "- 전체 시퀀스가 아닌 처음 500개 단어만 사용\n",
    "- SimpleRNN은 텍스트처럼 긴 시퀀스를 처리하는데 적합합지 않음"
   ]
  }
 ],
 "metadata": {
  "hide_input": false,
  "kernelspec": {
   "display_name": "Python 3",
   "language": "python",
   "name": "python3"
  },
  "language_info": {
   "codemirror_mode": {
    "name": "ipython",
    "version": 3
   },
   "file_extension": ".py",
   "mimetype": "text/x-python",
   "name": "python",
   "nbconvert_exporter": "python",
   "pygments_lexer": "ipython3",
   "version": "3.5.2"
  },
  "toc": {
   "base_numbering": 1,
   "nav_menu": {},
   "number_sections": true,
   "sideBar": true,
   "skip_h1_title": false,
   "title_cell": "Table of Contents",
   "title_sidebar": "Contents",
   "toc_cell": false,
   "toc_position": {},
   "toc_section_display": true,
   "toc_window_display": true
  }
 },
 "nbformat": 4,
 "nbformat_minor": 2
}
