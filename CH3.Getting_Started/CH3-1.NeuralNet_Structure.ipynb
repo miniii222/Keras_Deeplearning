{
 "cells": [
  {
   "cell_type": "markdown",
   "metadata": {},
   "source": [
    "# Structure\n",
    "- layer\n",
    "- input, output\n",
    "- loss function\n",
    "- optimizer\n",
    "\n",
    "## layer\n",
    "- 하나 이상의 텐서를 입력으로 받아 하나 이상의 텐서를 출력하는 데이터 처리 모듈\n",
    "- 층마다 적절한 텐서 포맷과 데이터 처리 방식이 상이(Densely connected layer, recurrent layer, convolution layer)"
   ]
  },
  {
   "cell_type": "code",
   "execution_count": 2,
   "metadata": {},
   "outputs": [
    {
     "ename": "SyntaxError",
     "evalue": "invalid syntax (<ipython-input-2-b62f1f6bf095>, line 6)",
     "output_type": "error",
     "traceback": [
      "\u001b[0;36m  File \u001b[0;32m\"<ipython-input-2-b62f1f6bf095>\"\u001b[0;36m, line \u001b[0;32m6\u001b[0m\n\u001b[0;31m    model.add(layers.Dense(10)) #input값 지정해주지 않아도 알아서\u001b[0m\n\u001b[0m        ^\u001b[0m\n\u001b[0;31mSyntaxError\u001b[0m\u001b[0;31m:\u001b[0m invalid syntax\n"
     ]
    }
   ],
   "source": [
    "from keras import models\n",
    "from keras import layers\n",
    "\n",
    "model = models.Sequential()\n",
    "model.add(layers.Dense(32, input_shape = (784,)) #784 2D만 입력으로 받아서 첫 번째 레이어는 32로 변환된  텐서를 출력.\n",
    "model.add(layers.Dense(10)) #input값 지정해주지 않아도 알아서 "
   ]
  },
  {
   "cell_type": "markdown",
   "metadata": {},
   "source": [
    "## loss function(objective function)\n",
    "- 훈련하는 동안 최소화될 값. 주어진 문제에 대한 성공지표\n",
    "- Classification : binary crossentropy, categorical crossentropy\n",
    "- Regression : RMSE, CTC(Connection Temporal Classification)\n",
    "\n",
    "## optimizer\n",
    "- 손실 함수를 기반으로 네트워크가 어떻게 업데이트될지 결정."
   ]
  },
  {
   "cell_type": "markdown",
   "metadata": {},
   "source": [
    "# procedure\n",
    "1. 입력 tensor와 target tensor로 이루어진 훈련 데이터를 정의\n",
    "2. 입력과 타깃을 매핑하는 층으로 이루어진 네트워크(또는 모델)을 정의\n",
    "3. 손실 함수, 옵티마이저, 모니터링하기 위한 측정 지표를 선택하여 학습 과정 설정\n",
    "4. 훈련 데이터에 대해 모델의 fit()메서드를 반복적으로 호출\n",
    "\n",
    "## Sequantial Class"
   ]
  },
  {
   "cell_type": "code",
   "execution_count": 6,
   "metadata": {},
   "outputs": [
    {
     "ename": "SyntaxError",
     "evalue": "invalid syntax (<ipython-input-6-05ee38fd926f>, line 3)",
     "output_type": "error",
     "traceback": [
      "\u001b[0;36m  File \u001b[0;32m\"<ipython-input-6-05ee38fd926f>\"\u001b[0;36m, line \u001b[0;32m3\u001b[0m\n\u001b[0;31m    model.add(layers.Dense(10), activation = 'softmax')\u001b[0m\n\u001b[0m        ^\u001b[0m\n\u001b[0;31mSyntaxError\u001b[0m\u001b[0;31m:\u001b[0m invalid syntax\n"
     ]
    }
   ],
   "source": [
    "model = models.Sequential()\n",
    "model.add(layers.Dense(32, input_shape = (784,), activation = 'relu') #input : 784 2D만 입력으로 받아서 첫 번째 레이어는 32로 변환된  텐서를 출력.\n",
    "model.add(layers.Dense(10), activation = 'softmax')"
   ]
  },
  {
   "cell_type": "markdown",
   "metadata": {},
   "source": [
    "## API"
   ]
  },
  {
   "cell_type": "code",
   "execution_count": 5,
   "metadata": {},
   "outputs": [
    {
     "name": "stderr",
     "output_type": "stream",
     "text": [
      "Using TensorFlow backend.\n"
     ]
    }
   ],
   "source": [
    "from keras import models\n",
    "from keras import layers\n",
    "\n",
    "input_tensor = layers.Input(shape = (784,))\n",
    "x = layers.Dense(32, activation = 'relu')(input_tensor)\n",
    "output_tensor = layers.Dense(10, activation = 'softmax')(x)\n",
    "\n",
    "model = models.Model(inputs = input_tensor, outputs = output_tensor)"
   ]
  }
 ],
 "metadata": {
  "kernelspec": {
   "display_name": "Python 3",
   "language": "python",
   "name": "python3"
  },
  "language_info": {
   "codemirror_mode": {
    "name": "ipython",
    "version": 3
   },
   "file_extension": ".py",
   "mimetype": "text/x-python",
   "name": "python",
   "nbconvert_exporter": "python",
   "pygments_lexer": "ipython3",
   "version": "3.5.2"
  }
 },
 "nbformat": 4,
 "nbformat_minor": 2
}
